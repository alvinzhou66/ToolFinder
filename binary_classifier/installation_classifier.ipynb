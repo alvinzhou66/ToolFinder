{
 "cells": [
  {
   "cell_type": "code",
   "execution_count": 1,
   "metadata": {},
   "outputs": [
    {
     "name": "stderr",
     "output_type": "stream",
     "text": [
      "[nltk_data] Downloading package punkt to\n",
      "[nltk_data]     /Users/charlesxin/nltk_data...\n",
      "[nltk_data]   Package punkt is already up-to-date!\n",
      "[nltk_data] Downloading package treebank to\n",
      "[nltk_data]     /Users/charlesxin/nltk_data...\n",
      "[nltk_data]   Package treebank is already up-to-date!\n",
      "[nltk_data] Downloading package stopwords to\n",
      "[nltk_data]     /Users/charlesxin/nltk_data...\n",
      "[nltk_data]   Package stopwords is already up-to-date!\n"
     ]
    }
   ],
   "source": [
    "import random\n",
    "import pandas as pd\n",
    "import nltk\n",
    "from nltk.corpus import treebank\n",
    "from sklearn.model_selection import train_test_split\n",
    "from nltk.tokenize import word_tokenize\n",
    "from nltk.corpus import stopwords\n",
    "import torch \n",
    "import torch.nn as nn\n",
    "import torch.nn.functional as F \n",
    "from collections import OrderedDict\n",
    "from torch.utils.data import TensorDataset\n",
    "from torch.utils.data import DataLoader\n",
    "from torch import optim\n",
    "import numpy as np \n",
    "import re\n",
    "nltk.download('punkt')\n",
    "nltk.download('treebank')\n",
    "nltk.download('stopwords')\n",
    "description_df = pd.read_csv('../dataset/binary_classifiers/description.csv')\n",
    "installation_df = pd.read_csv('../dataset/binary_classifiers/installation.csv')\n",
    "invocation_df = pd.read_csv('../dataset/binary_classifiers/invocation.csv')\n",
    "citation_df = pd.read_csv('../dataset/binary_classifiers/citation.csv')"
   ]
  },
  {
   "cell_type": "code",
   "execution_count": 2,
   "metadata": {},
   "outputs": [],
   "source": [
    "def lower_stopwords(x):\n",
    "    x = re.sub(r'[^a-zA-Z\\s]', '', x, re.I|re.A)\n",
    "    x = x.lower()\n",
    "    x = x.strip()\n",
    "    text_tokens = [word for word in word_tokenize(x) if word not in stopwords.words()]\n",
    "    return \" \".join(text_tokens)"
   ]
  },
  {
   "cell_type": "code",
   "execution_count": 3,
   "metadata": {},
   "outputs": [],
   "source": [
    "neg_quant = int(len(installation_df) * .375)\n",
    "treebank_background = pd.DataFrame(list(map(lambda sent: ' '.join(sent), random.sample(list(treebank.sents()), neg_quant))), columns=[\"excerpt\"]).assign(installation=False)\n",
    "# installation_corpus = pd.concat([installation_df.assign(installation=True), description_df.sample(neg_quant,replace = True).assign(installation=False), invocation_df.sample(neg_quant,replace = True).assign(installation=False), citation_df.sample(neg_quant,replace = True).assign(installation=False),treebank_background], sort=False)\n",
    "installation_corpus = pd.concat([installation_df.assign(installation=True), description_df.sample(neg_quant,replace = True).assign(installation=False), invocation_df.sample(neg_quant,replace = True).assign(installation=False), citation_df.sample(neg_quant,replace = True).assign(installation=False),treebank_background], sort=False)\n",
    "installation_corpus.drop('URL', 1, inplace=True)\n",
    "installation_corpus.dropna(0, inplace=True)\n",
    "installation_corpus.reset_index(drop=True, inplace=True)\n",
    "installation_corpus[\"excerpt\"] = installation_corpus[\"excerpt\"].apply(lower_stopwords)"
   ]
  },
  {
   "cell_type": "code",
   "execution_count": 4,
   "metadata": {},
   "outputs": [
    {
     "name": "stdout",
     "output_type": "stream",
     "text": [
      "              contributor  excerpt\n",
      "installation                      \n",
      "False                1023     1023\n",
      "True                  929      929\n"
     ]
    }
   ],
   "source": [
    "print(installation_corpus.groupby(by = \"installation\").count())"
   ]
  },
  {
   "cell_type": "code",
   "execution_count": 5,
   "metadata": {},
   "outputs": [],
   "source": [
    "X, y = installation_corpus.excerpt, installation_corpus.installation\n",
    "X_train, X_test, y_train, y_test = train_test_split(X, y)"
   ]
  },
  {
   "cell_type": "code",
   "execution_count": 6,
   "metadata": {},
   "outputs": [],
   "source": [
    "from sklearn.feature_extraction.text import CountVectorizer\n",
    "from sklearn.feature_extraction.text import TfidfVectorizer\n",
    "from sklearn.metrics import confusion_matrix"
   ]
  },
  {
   "cell_type": "code",
   "execution_count": 7,
   "metadata": {},
   "outputs": [],
   "source": [
    "def curtail(array,threshold = 0.0):\n",
    "    return array * (array>=threshold)"
   ]
  },
  {
   "cell_type": "code",
   "execution_count": 8,
   "metadata": {},
   "outputs": [],
   "source": [
    "# from sklearn.externals import joblib\n",
    "import joblib\n",
    "vectorizer = CountVectorizer()\n",
    "X_vect_train = vectorizer.fit_transform(X_train).toarray()\n",
    "joblib.dump(vectorizer, \"../model/vectorizer_installation.m\")\n",
    "X_vect_test =  vectorizer.transform(X_test).toarray()\n",
    "\n",
    "y_hot_train = pd.get_dummies(y_train.values)\n",
    "y_hot_test = pd.get_dummies(y_test.values)\n",
    "class FFN(nn.Module):\n",
    "    \n",
    "    def __init__(self,layer_arch,input_size,output_size,bias = True):\n",
    "        super(FFN,self).__init__()\n",
    "        self.layer_arch = layer_arch\n",
    "        self.input_size = input_size\n",
    "        self.output_size = output_size\n",
    "        self.bias = bias\n",
    "        self.build_model()\n",
    "        \n",
    "    def build_model(self):\n",
    "        model_arch = []\n",
    "        unit = self.input_size\n",
    "        for i,num in enumerate(self.layer_arch):\n",
    "            model_arch.append((\"dense_\"+str(i), nn.Linear(unit,num,bias = self.bias)))\n",
    "            model_arch.append((\"nonlinear_\"+str(i), nn.ReLU()))\n",
    "            if(i==1):\n",
    "                model_arch.append((\"dropout_\"+str(i), nn.Dropout()))\n",
    "            unit = num\n",
    "        model_arch.append((\"dense_final\",nn.Linear(unit,self.output_size,bias=self.bias)))\n",
    "        model_arch.append((\"act_final\",nn.Sigmoid()))\n",
    "        self.model = nn.Sequential(OrderedDict(model_arch))\n",
    "    def forward(self,inputs):\n",
    "        return self.model(inputs)"
   ]
  },
  {
   "cell_type": "code",
   "execution_count": null,
   "metadata": {},
   "outputs": [
    {
     "name": "stderr",
     "output_type": "stream",
     "text": [
      "/Library/Frameworks/Python.framework/Versions/3.6/lib/python3.6/site-packages/ipykernel_launcher.py:28: RuntimeWarning: invalid value encountered in long_scalars\n"
     ]
    },
    {
     "name": "stdout",
     "output_type": "stream",
     "text": [
      "test accuracy is 50.6147575378418\n",
      "test precision is 0.0\n",
      "test recall is nan\n",
      "test F-measure is nan\n",
      "************************\n",
      "test accuracy is 87.29508209228516\n",
      "test precision is 76.76348547717843\n",
      "test recall is 96.8586387434555\n",
      "test F-measure is 85.64814814814815\n",
      "************************\n",
      "test accuracy is 90.16393280029297\n",
      "test precision is 83.40248962655602\n",
      "test recall is 96.17224880382776\n",
      "test F-measure is 89.33333333333334\n",
      "************************\n",
      "test accuracy is 91.39344024658203\n",
      "test precision is 90.87136929460581\n",
      "test recall is 91.63179916317992\n",
      "test F-measure is 91.25\n",
      "************************\n",
      "test accuracy is 90.16393280029297\n",
      "test precision is 91.28630705394191\n",
      "test recall is 89.06882591093117\n",
      "test F-measure is 90.1639344262295\n",
      "************************\n",
      "test accuracy is 90.98360443115234\n",
      "test precision is 91.70124481327801\n",
      "test recall is 90.20408163265307\n",
      "test F-measure is 90.94650205761317\n",
      "************************\n",
      "test accuracy is 89.54917907714844\n",
      "test precision is 92.5311203319502\n",
      "test recall is 87.109375\n",
      "test F-measure is 89.73843058350101\n",
      "************************\n",
      "test accuracy is 90.36885833740234\n",
      "test precision is 90.45643153526972\n",
      "test recall is 90.08264462809917\n",
      "test F-measure is 90.26915113871635\n",
      "************************\n",
      "test accuracy is 89.54917907714844\n",
      "test precision is 86.72199170124482\n",
      "test recall is 91.66666666666666\n",
      "test F-measure is 89.12579957356076\n",
      "************************\n",
      "test accuracy is 90.16393280029297\n",
      "test precision is 88.38174273858921\n",
      "test recall is 91.41630901287554\n",
      "test F-measure is 89.87341772151899\n",
      "************************\n",
      "test accuracy is 89.54917907714844\n",
      "test precision is 86.72199170124482\n",
      "test recall is 91.66666666666666\n",
      "test F-measure is 89.12579957356076\n",
      "************************\n",
      "test accuracy is 89.3442611694336\n",
      "test precision is 88.79668049792531\n",
      "test recall is 89.5397489539749\n",
      "test F-measure is 89.16666666666667\n",
      "************************\n",
      "test accuracy is 89.75409698486328\n",
      "test precision is 88.38174273858921\n",
      "test recall is 90.63829787234042\n",
      "test F-measure is 89.49579831932772\n",
      "************************\n",
      "test accuracy is 89.95901489257812\n",
      "test precision is 90.04149377593362\n",
      "test recall is 89.6694214876033\n",
      "test F-measure is 89.85507246376812\n",
      "************************\n",
      "test accuracy is 89.3442611694336\n",
      "test precision is 92.11618257261411\n",
      "test recall is 87.05882352941177\n",
      "test F-measure is 89.51612903225808\n",
      "************************\n"
     ]
    }
   ],
   "source": [
    "model = FFN([1024,2048,1024,512,256],X_vect_train.shape[1],2)\n",
    "epoch_num = 30\n",
    "bs = 300\n",
    "history = []\n",
    "train_ds = TensorDataset(torch.tensor(X_vect_train).float(), torch.tensor(y_hot_train.values).float())\n",
    "train_dl = DataLoader(train_ds, batch_size=bs)\n",
    "# opt = optim.SGD(model.parameters(),lr = 0.001)\n",
    "opt = optim.Adam(model.parameters())\n",
    "Fs = [0]\n",
    "for i in range(epoch_num):\n",
    "    for xb,yb in train_dl:\n",
    "        target = torch.argmax(yb,dim = 1,keepdim=False)\n",
    "        pred = model(xb)\n",
    "        loss_fun = nn.CrossEntropyLoss()\n",
    "        loss = loss_fun(pred,target)\n",
    "        loss.backward()\n",
    "        opt.step()\n",
    "        opt.zero_grad()        \n",
    "    #### test metrics #####\n",
    "    test_pred = model(torch.tensor(X_vect_test).float())\n",
    "    test_pred = torch.argmax(test_pred,dim=1,keepdim=False)\n",
    "    ground_truth = torch.argmax(torch.tensor(y_hot_test.values).float(),dim=1,keepdim=False)\n",
    "    tn, fp, fn, tp = confusion_matrix(test_pred,ground_truth).ravel()\n",
    "\n",
    "    ### precision ###\n",
    "    precision = (tp/(tp+fp))*100\n",
    "    ### recall ###\n",
    "    recall = (tp/(tp+fn))*100\n",
    "    ### F-measure ###\n",
    "    F_measure = (2*precision*recall)/(precision+recall)\n",
    "    ### accuracy ###\n",
    "    accuracy = (torch.true_divide((torch.sum((test_pred-ground_truth)==0)),test_pred.shape[0]))*100\n",
    "    if F_measure > max(Fs):\n",
    "        torch.save(model.state_dict(), '../model/installation.pt')\n",
    "    Fs.append(F_measure)\n",
    "    print(\"test accuracy is {}\".format(accuracy))\n",
    "    print(\"test precision is {}\".format(precision))\n",
    "    print(\"test recall is {}\".format(recall))\n",
    "    print(\"test F-measure is {}\".format(F_measure))\n",
    "    print(\"************************\")\n",
    "\n",
    "    history.append({\"accuracy\":accuracy,\"precision\":precision,\"recall\":recall,\"F_measure\":F_measure})"
   ]
  },
  {
   "cell_type": "code",
   "execution_count": null,
   "metadata": {},
   "outputs": [],
   "source": [
    "import matplotlib.pyplot as plt"
   ]
  },
  {
   "cell_type": "code",
   "execution_count": null,
   "metadata": {},
   "outputs": [],
   "source": [
    "from sklearn import metrics\n",
    "ground_truth = torch.argmax(torch.tensor(y_hot_test.values).float(),dim=1,keepdim=False)\n",
    "test_pred_prob = model(torch.tensor(X_vect_test).float())\n",
    "test_pred = torch.argmax(test_pred_prob,dim=1,keepdim=False)\n",
    "fpr, tpr, thresholds = metrics.roc_curve(ground_truth.detach().numpy(), test_pred_prob[:,1].detach().numpy())\n",
    "fig,ax = plt.subplots()\n",
    "ax.plot(fpr,tpr)\n",
    "plt.show()"
   ]
  },
  {
   "cell_type": "code",
   "execution_count": null,
   "metadata": {},
   "outputs": [],
   "source": [
    "n = len(history)\n",
    "accu_array = np.array([history[i][\"accuracy\"] for i in range(n)])\n",
    "prec_array = np.array([history[i][\"precision\"] for i in range(n)])\n",
    "recall_array = np.array([history[i][\"recall\"] for i in range(n)])\n",
    "F_array = np.array([history[i][\"F_measure\"] for i in range(n)])\n",
    "np.save('../visualization/data/installation_accu', accu_array)\n",
    "np.save('../visualization/data/installation_prec', prec_array)\n",
    "np.save('../visualization/data/installation_recall', recall_array)\n",
    "np.save('../visualization/data/installation_f', F_array)"
   ]
  },
  {
   "cell_type": "code",
   "execution_count": null,
   "metadata": {},
   "outputs": [],
   "source": [
    "fig, ((ax1, ax2), (ax3, ax4)) = plt.subplots(2, 2,figsize=(16, 13))\n",
    "interval = 4\n",
    "\n",
    "ax1.plot([i+1 for i in range(n)],accu_array)\n",
    "ax1.set_xlabel(\"num_epochs\")\n",
    "ax1.set_ylabel(\"accuracy\")\n",
    "ax1.set_title(\"accuracy\")\n",
    "ax1.grid()\n",
    "ax1.set_yticks([i for i in np.arange(min(accu_array[~np.isnan(accu_array)]),101,interval)])\n",
    "\n",
    "ax2.plot([i+1 for i in range(n)],prec_array)\n",
    "ax2.set_xlabel(\"num_epochs\")\n",
    "ax2.set_ylabel(\"precision\")\n",
    "ax2.set_title(\"precision\")\n",
    "ax2.grid()\n",
    "ax2.set_yticks([i for i in np.arange(min(prec_array[~np.isnan(prec_array)]),101,interval)])\n",
    "\n",
    "ax3.plot([i+1 for i in range(n)],recall_array)\n",
    "ax3.set_xlabel(\"num_epochs\")\n",
    "ax3.set_ylabel(\"recall\")\n",
    "ax3.set_title(\"recall\")\n",
    "ax3.grid()\n",
    "ax3.set_yticks([i for i in np.arange(min(recall_array[~np.isnan(recall_array)]),101,interval)])\n",
    "\n",
    "ax4.plot([i+1 for i in range(n)],F_array)\n",
    "ax4.set_xlabel(\"num_epochs\")\n",
    "ax4.set_ylabel(\"F_measure\")\n",
    "ax4.set_title(\"F_measure\")\n",
    "ax4.grid()\n",
    "ax4.set_yticks([i for i in np.arange(min(F_array[~np.isnan(F_array)]),101,interval)])\n",
    "plt.tight_layout()\n",
    "plt.show()\n"
   ]
  },
  {
   "cell_type": "code",
   "execution_count": null,
   "metadata": {},
   "outputs": [],
   "source": []
  },
  {
   "cell_type": "code",
   "execution_count": null,
   "metadata": {},
   "outputs": [],
   "source": []
  }
 ],
 "metadata": {
  "kernelspec": {
   "display_name": "Python 3",
   "language": "python",
   "name": "python3"
  },
  "language_info": {
   "codemirror_mode": {
    "name": "ipython",
    "version": 3
   },
   "file_extension": ".py",
   "mimetype": "text/x-python",
   "name": "python",
   "nbconvert_exporter": "python",
   "pygments_lexer": "ipython3",
   "version": "3.6.8"
  }
 },
 "nbformat": 4,
 "nbformat_minor": 4
}
