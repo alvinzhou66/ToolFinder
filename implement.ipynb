{
 "metadata": {
  "language_info": {
   "codemirror_mode": {
    "name": "ipython",
    "version": 3
   },
   "file_extension": ".py",
   "mimetype": "text/x-python",
   "name": "python",
   "nbconvert_exporter": "python",
   "pygments_lexer": "ipython3",
   "version": "3.7.6-final"
  },
  "orig_nbformat": 2,
  "kernelspec": {
   "name": "python37664bit76f474c7ee4c4062a2b74d0825594196",
   "display_name": "Python 3.7.6 64-bit"
  }
 },
 "nbformat": 4,
 "nbformat_minor": 2,
 "cells": [
  {
   "cell_type": "code",
   "execution_count": 1,
   "metadata": {},
   "outputs": [],
   "source": [
    "import random\n",
    "import pandas as pd\n",
    "import nltk\n",
    "from nltk.corpus import treebank\n",
    "from sklearn.model_selection import train_test_split\n",
    "from sklearn.feature_extraction.text import CountVectorizer\n",
    "from nltk.tokenize import word_tokenize\n",
    "from nltk.corpus import stopwords\n",
    "from sklearn.externals import joblib\n",
    "import torch \n",
    "import torch.nn as nn\n",
    "import torch.nn.functional as F \n",
    "from collections import OrderedDict\n",
    "from torch.utils.data import TensorDataset\n",
    "from torch.utils.data import DataLoader\n",
    "from torch import optim\n",
    "import numpy as np \n",
    "import re\n",
    "import urllib\n",
    "from bs4 import BeautifulSoup"
   ]
  },
  {
   "cell_type": "code",
   "execution_count": 3,
   "metadata": {},
   "outputs": [],
   "source": [
    "url = input()\n",
    "response = urllib.request.urlopen(url)\n",
    "page = response.read()\n",
    "soup = BeautifulSoup(page, \"lxml\")\n",
    "# kill all script and style elements\n",
    "for script in soup([\"script\", \"style\"]):\n",
    "   script.extract()    # rip it out\n",
    "# get text\n",
    "text = soup.get_text()\n",
    "# break into lines and remove leading and trailing space on each\n",
    "lines = (line.strip() for line in text.splitlines())\n",
    "# break multi-headlines into a line each\n",
    "chunks = (phrase.strip() for line in lines for phrase in line.split(\"  \"))\n",
    "# drp blank lines\n",
    "text = 'n'.join(chunk for chunk in chunks if chunk)\n",
    "input_text = text.split('.')"
   ]
  },
  {
   "cell_type": "code",
   "execution_count": 4,
   "metadata": {},
   "outputs": [],
   "source": [
    "class FFN(nn.Module):\n",
    "    \n",
    "    def __init__(self,layer_arch,input_size,output_size,bias = True):\n",
    "        super(FFN,self).__init__()\n",
    "        self.layer_arch = layer_arch\n",
    "        self.input_size = input_size\n",
    "        self.output_size = output_size\n",
    "        self.bias = bias\n",
    "        self.build_model()\n",
    "        \n",
    "    def build_model(self):\n",
    "        model_arch = []\n",
    "        unit = self.input_size\n",
    "        for i,num in enumerate(self.layer_arch):\n",
    "            model_arch.append((\"dense_\"+str(i), nn.Linear(unit,num,bias = self.bias)))\n",
    "            model_arch.append((\"nonlinear_\"+str(i), nn.ReLU()))\n",
    "            if(i==1):\n",
    "                model_arch.append((\"dropout_\"+str(i), nn.Dropout()))\n",
    "            unit = num\n",
    "        model_arch.append((\"dense_final\",nn.Linear(unit,self.output_size,bias=self.bias)))\n",
    "        model_arch.append((\"act_final\",nn.Sigmoid()))\n",
    "        self.model = nn.Sequential(OrderedDict(model_arch))\n",
    "    def forward(self,inputs):\n",
    "        return self.model(inputs)"
   ]
  },
  {
   "cell_type": "code",
   "execution_count": 5,
   "metadata": {},
   "outputs": [],
   "source": [
    "vectorizer = joblib.load(\"model/vectorizer.m\")\n",
    "input_sentences = ''\n",
    "for line in input_text:   \n",
    "    x_new_input = vectorizer.transform([line]).toarray()\n",
    "    model = FFN([1024,2048,1024,512,256],x_new_input.shape[1],2)\n",
    "    model.load_state_dict(torch.load('model/description.pt'))\n",
    "    model.eval()\n",
    "    test_pred = model(torch.tensor(x_new_input).float())\n",
    "    test_pred = torch.argmax(test_pred,dim=1,keepdim=False)\n",
    "    if test_pred.item() == 1:\n",
    "        input_sentences += str(line)"
   ]
  },
  {
   "cell_type": "code",
   "execution_count": 6,
   "metadata": {},
   "outputs": [
    {
     "output_type": "stream",
     "name": "stdout",
     "text": [
      "This should be a DATA MANAGEMENT project.\n"
     ]
    }
   ],
   "source": [
    "clf = joblib.load(\"model/func_classifier.m\")\n",
    "x_new_input = vectorizer.transform([input_sentences]).toarray()\n",
    "result = clf.predict(x_new_input)\n",
    "if result == [0]:\n",
    "    print('This should be a DATA ANALYSIS project.')\n",
    "elif result == [1]:\n",
    "    print('This should be a DATA MANAGEMENT project.')\n",
    "elif result == [2]:\n",
    "    print('This should be a DEEP LEARNING project.')"
   ]
  },
  {
   "cell_type": "code",
   "execution_count": null,
   "metadata": {},
   "outputs": [],
   "source": []
  }
 ]
}