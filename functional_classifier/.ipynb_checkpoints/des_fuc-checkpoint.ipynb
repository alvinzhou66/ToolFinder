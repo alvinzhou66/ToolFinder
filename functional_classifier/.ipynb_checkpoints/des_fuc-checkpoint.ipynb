{
 "cells": [
  {
   "cell_type": "code",
   "execution_count": 1,
   "metadata": {},
   "outputs": [],
   "source": [
    "import random\n",
    "import pandas as pd\n",
    "import nltk\n",
    "import re\n",
    "from nltk.corpus import treebank\n",
    "from sklearn.model_selection import train_test_split\n",
    "from nltk.tokenize import word_tokenize\n",
    "nltk.download('punkt')\n",
    "nltk.download('treebank')\n",
    "nltk.download('stopwords')\n",
    "from nltk.corpus import stopwords\n",
    "import torch \n",
    "import torch.nn as nn\n",
    "import torch.nn.functional as F \n",
    "from collections import OrderedDict\n",
    "from torch.utils.data import TensorDataset\n",
    "from torch.utils.data import DataLoader\n",
    "from torch import optim\n",
    "import numpy as np \n",
    "# nltk.download('punkt')\n",
    "description_df = pd.read_csv('../dataset/binary_classifiers/description.csv')\n",
    "installation_df = pd.read_csv('../dataset/binary_classifiers/installation.csv')\n",
    "invocation_df = pd.read_csv('../dataset/binary_classifiers/invocation.csv')\n",
    "citation_df = pd.read_csv('../dataset/binary_classifiers/citation.csv')"
   ]
  },
  {
   "cell_type": "code",
   "execution_count": 2,
   "metadata": {},
   "outputs": [],
   "source": [
    "def lower_stopwords(x):\n",
    "    x = re.sub(r'[^a-zA-Z\\s]', '', x, re.I|re.A)\n",
    "    x = x.lower()\n",
    "    x = x.strip()\n",
    "    text_tokens = [word for word in word_tokenize(x) if word not in stopwords.words()]\n",
    "    return \" \".join(text_tokens)"
   ]
  },
  {
   "cell_type": "code",
   "execution_count": 3,
   "metadata": {},
   "outputs": [
    {
     "name": "stdout",
     "output_type": "stream",
     "text": [
      "The original implementation is based on our internal Mxnet version. There are slight differences in the final accuracy and running time due to the plenty details in platform switch.\n"
     ]
    }
   ],
   "source": [
    "print(description_df[\"excerpt\"][6])"
   ]
  },
  {
   "cell_type": "code",
   "execution_count": 4,
   "metadata": {},
   "outputs": [],
   "source": [
    "neg_quant = int(len(description_df) * .375)\n",
    "treebank_background = pd.DataFrame(list(map(lambda sent: ' '.join(sent), random.sample(list(treebank.sents()), neg_quant))), columns=[\"excerpt\"]).assign(description=False)\n",
    "description_corpus = pd.concat([description_df.assign(description=True), installation_df.sample(neg_quant).assign(description=False), invocation_df.sample(neg_quant).assign(description=False), citation_df.sample(neg_quant).assign(description=False),treebank_background], sort=False)\n",
    "description_corpus.drop('URL', 1, inplace=True)\n",
    "description_corpus.dropna(0, inplace=True)\n",
    "description_corpus.reset_index(drop=True, inplace=True)\n",
    "description_corpus[\"excerpt\"] = description_corpus[\"excerpt\"].apply(lower_stopwords)"
   ]
  },
  {
   "cell_type": "code",
   "execution_count": 5,
   "metadata": {},
   "outputs": [
    {
     "name": "stdout",
     "output_type": "stream",
     "text": [
      "             contributor  excerpt\n",
      "description                      \n",
      "False                600      600\n",
      "True                 545      545\n"
     ]
    }
   ],
   "source": [
    "print(description_corpus.groupby(by = \"description\").count())"
   ]
  },
  {
   "cell_type": "code",
   "execution_count": 6,
   "metadata": {},
   "outputs": [],
   "source": [
    "X, y = description_corpus.excerpt, description_corpus.description\n",
    "X_train, X_test, y_train, y_test = train_test_split(X, y)"
   ]
  },
  {
   "cell_type": "code",
   "execution_count": 7,
   "metadata": {},
   "outputs": [],
   "source": [
    "from sklearn.feature_extraction.text import CountVectorizer\n",
    "from sklearn.feature_extraction.text import TfidfVectorizer\n",
    "from sklearn.metrics import confusion_matrix"
   ]
  },
  {
   "cell_type": "code",
   "execution_count": 8,
   "metadata": {},
   "outputs": [],
   "source": [
    "def curtail(array,threshold = 0.0):\n",
    "    return array * (array>=threshold)"
   ]
  },
  {
   "cell_type": "code",
   "execution_count": 9,
   "metadata": {},
   "outputs": [],
   "source": [
    "# from sklearn.externals import joblib\n",
    "import joblib\n",
    "vectorizer = CountVectorizer()\n",
    "X_vect_train = vectorizer.fit_transform(X_train).toarray()\n",
    "joblib.dump(vectorizer, \"../model/vectorizer.m\")\n",
    "X_vect_test =  vectorizer.transform(X_test).toarray()\n",
    "\n",
    "y_hot_train = pd.get_dummies(y_train.values)\n",
    "y_hot_test = pd.get_dummies(y_test.values)\n",
    "\n",
    "class FFN(nn.Module):\n",
    "    \n",
    "    def __init__(self,layer_arch,input_size,output_size,bias = True):\n",
    "        super(FFN,self).__init__()\n",
    "        self.layer_arch = layer_arch\n",
    "        self.input_size = input_size\n",
    "        self.output_size = output_size\n",
    "        self.bias = bias\n",
    "        self.build_model()\n",
    "        \n",
    "    def build_model(self):\n",
    "        model_arch = []\n",
    "        unit = self.input_size\n",
    "        for i,num in enumerate(self.layer_arch):\n",
    "            model_arch.append((\"dense_\"+str(i), nn.Linear(unit,num,bias = self.bias)))\n",
    "            model_arch.append((\"nonlinear_\"+str(i), nn.ReLU()))\n",
    "            if(i==1):\n",
    "                model_arch.append((\"dropout_\"+str(i), nn.Dropout()))\n",
    "            unit = num\n",
    "        model_arch.append((\"dense_final\",nn.Linear(unit,self.output_size,bias=self.bias)))\n",
    "        model_arch.append((\"act_final\",nn.Sigmoid()))\n",
    "        self.model = nn.Sequential(OrderedDict(model_arch))\n",
    "    def forward(self,inputs):\n",
    "        return self.model(inputs)\n",
    "    \n",
    "\n",
    "        "
   ]
  },
  {
   "cell_type": "code",
   "execution_count": 10,
   "metadata": {
    "scrolled": true
   },
   "outputs": [
    {
     "name": "stdout",
     "output_type": "stream",
     "text": [
      "test accuracy is 74.91289520263672\n",
      "test precision is 69.06474820143885\n",
      "test recall is 76.8\n",
      "test F-measure is 72.72727272727273\n",
      "************************\n",
      "test accuracy is 77.70034790039062\n",
      "test precision is 74.10071942446042\n",
      "test recall is 78.62595419847328\n",
      "test F-measure is 76.29629629629629\n",
      "************************\n",
      "test accuracy is 82.22996520996094\n",
      "test precision is 91.36690647482014\n",
      "test recall is 76.50602409638554\n",
      "test F-measure is 83.27868852459017\n",
      "************************\n",
      "test accuracy is 83.27526092529297\n",
      "test precision is 93.5251798561151\n",
      "test recall is 76.92307692307693\n",
      "test F-measure is 84.41558441558442\n",
      "************************\n",
      "test accuracy is 80.83623504638672\n",
      "test precision is 96.40287769784173\n",
      "test recall is 72.82608695652173\n",
      "test F-measure is 82.97213622291022\n",
      "************************\n",
      "test accuracy is 81.1846694946289\n",
      "test precision is 95.68345323741008\n",
      "test recall is 73.48066298342542\n",
      "test F-measure is 83.125\n",
      "************************\n",
      "test accuracy is 80.48780822753906\n",
      "test precision is 97.84172661870504\n",
      "test recall is 71.95767195767195\n",
      "test F-measure is 82.92682926829269\n",
      "************************\n",
      "test accuracy is 79.4425048828125\n",
      "test precision is 97.84172661870504\n",
      "test recall is 70.83333333333334\n",
      "test F-measure is 82.17522658610271\n",
      "************************\n",
      "test accuracy is 79.09407806396484\n",
      "test precision is 94.24460431654677\n",
      "test recall is 71.58469945355192\n",
      "test F-measure is 81.36645962732919\n",
      "************************\n",
      "test accuracy is 81.53309631347656\n",
      "test precision is 92.80575539568345\n",
      "test recall is 75.0\n",
      "test F-measure is 82.95819935691318\n",
      "************************\n",
      "test accuracy is 81.53309631347656\n",
      "test precision is 90.64748201438849\n",
      "test recall is 75.90361445783132\n",
      "test F-measure is 82.62295081967214\n",
      "************************\n",
      "test accuracy is 81.88153839111328\n",
      "test precision is 92.08633093525181\n",
      "test recall is 75.7396449704142\n",
      "test F-measure is 83.11688311688312\n",
      "************************\n",
      "test accuracy is 81.53309631347656\n",
      "test precision is 91.36690647482014\n",
      "test recall is 75.59523809523809\n",
      "test F-measure is 82.73615635179154\n",
      "************************\n",
      "test accuracy is 81.1846694946289\n",
      "test precision is 91.36690647482014\n",
      "test recall is 75.14792899408283\n",
      "test F-measure is 82.46753246753248\n",
      "************************\n",
      "test accuracy is 81.1846694946289\n",
      "test precision is 92.08633093525181\n",
      "test recall is 74.85380116959064\n",
      "test F-measure is 82.58064516129032\n",
      "************************\n",
      "test accuracy is 80.83623504638672\n",
      "test precision is 90.64748201438849\n",
      "test recall is 75.0\n",
      "test F-measure is 82.08469055374593\n",
      "************************\n",
      "test accuracy is 81.53309631347656\n",
      "test precision is 92.08633093525181\n",
      "test recall is 75.29411764705883\n",
      "test F-measure is 82.84789644012945\n",
      "************************\n",
      "test accuracy is 81.1846694946289\n",
      "test precision is 92.08633093525181\n",
      "test recall is 74.85380116959064\n",
      "test F-measure is 82.58064516129032\n",
      "************************\n",
      "test accuracy is 80.83623504638672\n",
      "test precision is 92.08633093525181\n",
      "test recall is 74.4186046511628\n",
      "test F-measure is 82.31511254019293\n",
      "************************\n",
      "test accuracy is 81.1846694946289\n",
      "test precision is 92.08633093525181\n",
      "test recall is 74.85380116959064\n",
      "test F-measure is 82.58064516129032\n",
      "************************\n"
     ]
    }
   ],
   "source": [
    "model = FFN([1024,2048,1024,512,256],X_vect_train.shape[1],2)\n",
    "epoch_num = 20\n",
    "bs = 300\n",
    "train_ds = TensorDataset(torch.tensor(X_vect_train).float(), torch.tensor(y_hot_train.values).float())\n",
    "train_dl = DataLoader(train_ds, batch_size=bs)\n",
    "# opt = optim.SGD(model.parameters(),lr = 0.001)\n",
    "opt = optim.Adam(model.parameters())\n",
    "Fs = [0]\n",
    "for i in range(epoch_num):\n",
    "    for xb,yb in train_dl:\n",
    "        target = torch.argmax(yb,dim = 1,keepdim=False)\n",
    "        pred = model(xb)\n",
    "        loss_fun = nn.CrossEntropyLoss()\n",
    "        loss = loss_fun(pred,target)\n",
    "        loss.backward()\n",
    "        opt.step()\n",
    "        opt.zero_grad()        \n",
    "    #### test metrics #####\n",
    "    test_pred = model(torch.tensor(X_vect_test).float())\n",
    "    test_pred = torch.argmax(test_pred,dim=1,keepdim=False)\n",
    "    ground_truth = torch.argmax(torch.tensor(y_hot_test.values).float(),dim=1,keepdim=False)\n",
    "    tn, fp, fn, tp = confusion_matrix(test_pred,ground_truth).ravel()\n",
    "\n",
    "    ### precision ###\n",
    "    precision = (tp/(tp+fp))*100\n",
    "    ### recall ###\n",
    "    recall = (tp/(tp+fn))*100\n",
    "    ### F-measure ###\n",
    "    F_measure = (2*precision*recall)/(precision+recall)\n",
    "    ### accuracy ###\n",
    "    accuracy = (torch.true_divide((torch.sum((test_pred-ground_truth)==0)),test_pred.shape[0]))*100\n",
    "    if F_measure > max(Fs):\n",
    "        torch.save(model.state_dict(), '../model/description.pt')\n",
    "    Fs.append(F_measure)\n",
    "    print(\"test accuracy is {}\".format(accuracy))\n",
    "    print(\"test precision is {}\".format(precision))\n",
    "    print(\"test recall is {}\".format(recall))\n",
    "    print(\"test F-measure is {}\".format(F_measure))\n",
    "    print(\"************************\")\n"
   ]
  },
  {
   "cell_type": "code",
   "execution_count": 11,
   "metadata": {},
   "outputs": [
    {
     "name": "stdout",
     "output_type": "stream",
     "text": [
      "84.41558441558442\n"
     ]
    }
   ],
   "source": [
    "print(max(Fs))"
   ]
  },
  {
   "cell_type": "code",
   "execution_count": 12,
   "metadata": {},
   "outputs": [
    {
     "data": {
      "text/plain": [
       "3196"
      ]
     },
     "execution_count": 12,
     "metadata": {},
     "output_type": "execute_result"
    }
   ],
   "source": [
    "X_vect_train.shape[1]"
   ]
  },
  {
   "cell_type": "code",
   "execution_count": null,
   "metadata": {},
   "outputs": [],
   "source": []
  }
 ],
 "metadata": {
  "kernelspec": {
   "display_name": "Python 3",
   "language": "python",
   "name": "python3"
  },
  "language_info": {
   "codemirror_mode": {
    "name": "ipython",
    "version": 3
   },
   "file_extension": ".py",
   "mimetype": "text/x-python",
   "name": "python",
   "nbconvert_exporter": "python",
   "pygments_lexer": "ipython3",
   "version": "3.6.8"
  }
 },
 "nbformat": 4,
 "nbformat_minor": 4
}
