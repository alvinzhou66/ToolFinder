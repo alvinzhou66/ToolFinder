{
 "cells": [
  {
   "cell_type": "code",
   "execution_count": 1,
   "metadata": {},
   "outputs": [],
   "source": [
    "import random\n",
    "import pandas as pd\n",
    "import nltk\n",
    "import re\n",
    "from nltk.corpus import treebank\n",
    "from sklearn.model_selection import train_test_split\n",
    "from nltk.tokenize import word_tokenize\n",
    "from nltk.corpus import stopwords\n",
    "import torch \n",
    "import torch.nn as nn\n",
    "import torch.nn.functional as F \n",
    "from collections import OrderedDict\n",
    "from torch.utils.data import TensorDataset\n",
    "from torch.utils.data import DataLoader\n",
    "from torch import optim\n",
    "import numpy as np \n",
    "# nltk.download('punkt')\n",
    "description_df = pd.read_csv('dataset/binary_classifiers/description.csv')\n",
    "installation_df = pd.read_csv('dataset/binary_classifiers/installation.csv')\n",
    "invocation_df = pd.read_csv('dataset/binary_classifiers/invocation.csv')\n",
    "citation_df = pd.read_csv('dataset/binary_classifiers/citation.csv')"
   ]
  },
  {
   "cell_type": "code",
   "execution_count": 2,
   "metadata": {},
   "outputs": [],
   "source": [
    "def lower_stopwords(x):\n",
    "    x = re.sub(r'[^a-zA-Z\\s]', '', x, re.I|re.A)\n",
    "    x = x.lower()\n",
    "    x = x.strip()\n",
    "    text_tokens = [word for word in word_tokenize(x) if word not in stopwords.words()]\n",
    "    return \" \".join(text_tokens)"
   ]
  },
  {
   "cell_type": "code",
   "execution_count": 3,
   "metadata": {},
   "outputs": [
    {
     "output_type": "stream",
     "name": "stdout",
     "text": [
      "The original implementation is based on our internal Mxnet version. There are slight differences in the final accuracy and running time due to the plenty details in platform switch.\n"
     ]
    }
   ],
   "source": [
    "print(description_df[\"excerpt\"][6])"
   ]
  },
  {
   "cell_type": "code",
   "execution_count": 4,
   "metadata": {},
   "outputs": [],
   "source": [
    "neg_quant = int(len(description_df) * .375)\n",
    "treebank_background = pd.DataFrame(list(map(lambda sent: ' '.join(sent), random.sample(list(treebank.sents()), neg_quant))), columns=[\"excerpt\"]).assign(description=False)\n",
    "description_corpus = pd.concat([description_df.assign(description=True), installation_df.sample(neg_quant).assign(description=False), invocation_df.sample(neg_quant).assign(description=False), citation_df.sample(neg_quant).assign(description=False),treebank_background], sort=False)\n",
    "description_corpus.drop('URL', 1, inplace=True)\n",
    "description_corpus.dropna(0, inplace=True)\n",
    "description_corpus.reset_index(drop=True, inplace=True)\n",
    "description_corpus[\"excerpt\"] = description_corpus[\"excerpt\"].apply(lower_stopwords)"
   ]
  },
  {
   "cell_type": "code",
   "execution_count": 5,
   "metadata": {},
   "outputs": [
    {
     "output_type": "stream",
     "name": "stdout",
     "text": [
      "             contributor  excerpt\ndescription                      \nFalse                549      549\nTrue                 503      503\n"
     ]
    }
   ],
   "source": [
    "print(description_corpus.groupby(by = \"description\").count())"
   ]
  },
  {
   "cell_type": "code",
   "execution_count": 6,
   "metadata": {},
   "outputs": [],
   "source": [
    "X, y = description_corpus.excerpt, description_corpus.description\n",
    "X_train, X_test, y_train, y_test = train_test_split(X, y)"
   ]
  },
  {
   "cell_type": "code",
   "execution_count": 7,
   "metadata": {},
   "outputs": [],
   "source": [
    "from sklearn.feature_extraction.text import CountVectorizer\n",
    "from sklearn.feature_extraction.text import TfidfVectorizer\n",
    "from sklearn.metrics import confusion_matrix"
   ]
  },
  {
   "cell_type": "code",
   "execution_count": 8,
   "metadata": {},
   "outputs": [],
   "source": [
    "def curtail(array,threshold = 0.0):\n",
    "    return array * (array>=threshold)"
   ]
  },
  {
   "cell_type": "code",
   "execution_count": 10,
   "metadata": {},
   "outputs": [],
   "source": [
    "from sklearn.externals import joblib\n",
    "vectorizer = CountVectorizer()\n",
    "X_vect_train = vectorizer.fit_transform(X_train).toarray()\n",
    "joblib.dump(vectorizer, \"model/vectorizer.m\")\n",
    "X_vect_test =  vectorizer.transform(X_test).toarray()\n",
    "\n",
    "y_hot_train = pd.get_dummies(y_train.values)\n",
    "y_hot_test = pd.get_dummies(y_test.values)\n",
    "\n",
    "class FFN(nn.Module):\n",
    "    \n",
    "    def __init__(self,layer_arch,input_size,output_size,bias = True):\n",
    "        super(FFN,self).__init__()\n",
    "        self.layer_arch = layer_arch\n",
    "        self.input_size = input_size\n",
    "        self.output_size = output_size\n",
    "        self.bias = bias\n",
    "        self.build_model()\n",
    "        \n",
    "    def build_model(self):\n",
    "        model_arch = []\n",
    "        unit = self.input_size\n",
    "        for i,num in enumerate(self.layer_arch):\n",
    "            model_arch.append((\"dense_\"+str(i), nn.Linear(unit,num,bias = self.bias)))\n",
    "            model_arch.append((\"nonlinear_\"+str(i), nn.ReLU()))\n",
    "            if(i==1):\n",
    "                model_arch.append((\"dropout_\"+str(i), nn.Dropout()))\n",
    "            unit = num\n",
    "        model_arch.append((\"dense_final\",nn.Linear(unit,self.output_size,bias=self.bias)))\n",
    "        model_arch.append((\"act_final\",nn.Sigmoid()))\n",
    "        self.model = nn.Sequential(OrderedDict(model_arch))\n",
    "    def forward(self,inputs):\n",
    "        return self.model(inputs)\n",
    "    \n",
    "\n",
    "        "
   ]
  },
  {
   "cell_type": "code",
   "execution_count": 11,
   "metadata": {
    "scrolled": true
   },
   "outputs": [
    {
     "output_type": "stream",
     "name": "stdout",
     "text": [
      "test accuracy is 75.28517150878906\n",
      "test precision is 85.6\n",
      "test recall is 69.48051948051948\n",
      "test F-measure is 76.70250896057347\n",
      "************************\n",
      "test accuracy is 80.22813415527344\n",
      "test precision is 84.0\n",
      "test recall is 76.64233576642336\n",
      "test F-measure is 80.1526717557252\n",
      "************************\n",
      "test accuracy is 82.1292724609375\n",
      "test precision is 80.80000000000001\n",
      "test recall is 81.45161290322581\n",
      "test F-measure is 81.12449799196789\n",
      "************************\n",
      "test accuracy is 82.50950622558594\n",
      "test precision is 93.60000000000001\n",
      "test recall is 75.48387096774194\n",
      "test F-measure is 83.57142857142857\n",
      "************************\n",
      "test accuracy is 84.41064453125\n",
      "test precision is 85.6\n",
      "test recall is 82.3076923076923\n",
      "test F-measure is 83.92156862745098\n",
      "************************\n",
      "test accuracy is 86.6920166015625\n",
      "test precision is 88.8\n",
      "test recall is 84.0909090909091\n",
      "test F-measure is 86.38132295719845\n",
      "************************\n",
      "test accuracy is 85.17110443115234\n",
      "test precision is 91.2\n",
      "test recall is 80.28169014084507\n",
      "test F-measure is 85.39325842696628\n",
      "************************\n",
      "test accuracy is 84.41064453125\n",
      "test precision is 91.2\n",
      "test recall is 79.16666666666666\n",
      "test F-measure is 84.75836431226764\n",
      "************************\n",
      "test accuracy is 84.7908706665039\n",
      "test precision is 84.0\n",
      "test recall is 84.0\n",
      "test F-measure is 84.0\n",
      "************************\n",
      "test accuracy is 82.88973236083984\n",
      "test precision is 80.0\n",
      "test recall is 83.33333333333334\n",
      "test F-measure is 81.6326530612245\n",
      "************************\n",
      "test accuracy is 80.98859405517578\n",
      "test precision is 73.6\n",
      "test recall is 84.40366972477065\n",
      "test F-measure is 78.63247863247864\n",
      "************************\n",
      "test accuracy is 81.36882019042969\n",
      "test precision is 75.2\n",
      "test recall is 83.92857142857143\n",
      "test F-measure is 79.32489451476793\n",
      "************************\n",
      "test accuracy is 82.50950622558594\n",
      "test precision is 77.60000000000001\n",
      "test recall is 84.34782608695653\n",
      "test F-measure is 80.83333333333336\n",
      "************************\n",
      "test accuracy is 81.74905395507812\n",
      "test precision is 77.60000000000001\n",
      "test recall is 82.90598290598291\n",
      "test F-measure is 80.16528925619835\n",
      "************************\n",
      "test accuracy is 82.88973236083984\n",
      "test precision is 80.0\n",
      "test recall is 83.33333333333334\n",
      "test F-measure is 81.6326530612245\n",
      "************************\n",
      "test accuracy is 83.65019226074219\n",
      "test precision is 81.6\n",
      "test recall is 83.60655737704919\n",
      "test F-measure is 82.5910931174089\n",
      "************************\n",
      "test accuracy is 84.0304183959961\n",
      "test precision is 82.39999999999999\n",
      "test recall is 83.73983739837398\n",
      "test F-measure is 83.06451612903226\n",
      "************************\n",
      "test accuracy is 84.0304183959961\n",
      "test precision is 81.6\n",
      "test recall is 84.29752066115702\n",
      "test F-measure is 82.92682926829268\n",
      "************************\n",
      "test accuracy is 84.0304183959961\n",
      "test precision is 82.39999999999999\n",
      "test recall is 83.73983739837398\n",
      "test F-measure is 83.06451612903226\n",
      "************************\n",
      "test accuracy is 82.88973236083984\n",
      "test precision is 79.2\n",
      "test recall is 83.89830508474576\n",
      "test F-measure is 81.48148148148148\n",
      "************************\n"
     ]
    }
   ],
   "source": [
    "model = FFN([1024,2048,1024,512,256],X_vect_train.shape[1],2)\n",
    "epoch_num = 20\n",
    "bs = 300\n",
    "train_ds = TensorDataset(torch.tensor(X_vect_train).float(), torch.tensor(y_hot_train.values).float())\n",
    "train_dl = DataLoader(train_ds, batch_size=bs)\n",
    "# opt = optim.SGD(model.parameters(),lr = 0.001)\n",
    "opt = optim.Adam(model.parameters())\n",
    "Fs = [0]\n",
    "for i in range(epoch_num):\n",
    "    for xb,yb in train_dl:\n",
    "        target = torch.argmax(yb,dim = 1,keepdim=False)\n",
    "        pred = model(xb)\n",
    "        loss_fun = nn.CrossEntropyLoss()\n",
    "        loss = loss_fun(pred,target)\n",
    "        loss.backward()\n",
    "        opt.step()\n",
    "        opt.zero_grad()        \n",
    "    #### test metrics #####\n",
    "    test_pred = model(torch.tensor(X_vect_test).float())\n",
    "    test_pred = torch.argmax(test_pred,dim=1,keepdim=False)\n",
    "    ground_truth = torch.argmax(torch.tensor(y_hot_test.values).float(),dim=1,keepdim=False)\n",
    "    tn, fp, fn, tp = confusion_matrix(test_pred,ground_truth).ravel()\n",
    "\n",
    "    ### precision ###\n",
    "    precision = (tp/(tp+fp))*100\n",
    "    ### recall ###\n",
    "    recall = (tp/(tp+fn))*100\n",
    "    ### F-measure ###\n",
    "    F_measure = (2*precision*recall)/(precision+recall)\n",
    "    ### accuracy ###\n",
    "    accuracy = (torch.true_divide((torch.sum((test_pred-ground_truth)==0)),test_pred.shape[0]))*100\n",
    "    if F_measure > max(Fs):\n",
    "        torch.save(model.state_dict(), 'model/description.pt')\n",
    "    Fs.append(F_measure)\n",
    "    print(\"test accuracy is {}\".format(accuracy))\n",
    "    print(\"test precision is {}\".format(precision))\n",
    "    print(\"test recall is {}\".format(recall))\n",
    "    print(\"test F-measure is {}\".format(F_measure))\n",
    "    print(\"************************\")\n"
   ]
  },
  {
   "cell_type": "code",
   "execution_count": 12,
   "metadata": {},
   "outputs": [
    {
     "output_type": "stream",
     "name": "stdout",
     "text": [
      "86.38132295719845\n"
     ]
    }
   ],
   "source": [
    "print(max(Fs))"
   ]
  },
  {
   "cell_type": "code",
   "execution_count": 13,
   "metadata": {},
   "outputs": [
    {
     "output_type": "execute_result",
     "data": {
      "text/plain": [
       "2941"
      ]
     },
     "metadata": {},
     "execution_count": 13
    }
   ],
   "source": [
    "X_vect_train.shape[1]"
   ]
  },
  {
   "cell_type": "code",
   "execution_count": null,
   "metadata": {},
   "outputs": [],
   "source": []
  }
 ],
 "metadata": {
  "kernelspec": {
   "display_name": "Python 3",
   "language": "python",
   "name": "python3"
  },
  "language_info": {
   "codemirror_mode": {
    "name": "ipython",
    "version": 3
   },
   "file_extension": ".py",
   "mimetype": "text/x-python",
   "name": "python",
   "nbconvert_exporter": "python",
   "pygments_lexer": "ipython3",
   "version": "3.7.6-final"
  }
 },
 "nbformat": 4,
 "nbformat_minor": 4
}